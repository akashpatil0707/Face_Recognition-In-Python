{
 "cells": [
  {
   "cell_type": "code",
   "execution_count": 1,
   "id": "3cf42795-5847-4978-b2ff-51e2c856b8ea",
   "metadata": {},
   "outputs": [],
   "source": [
    "import cv2 "
   ]
  },
  {
   "cell_type": "markdown",
   "id": "4dbb6250-be45-4a48-824c-a1bef6b2d5f6",
   "metadata": {},
   "source": [
    "OpenCV library to capture live video from the default webcam (index 0)"
   ]
  },
  {
   "cell_type": "code",
   "execution_count": null,
   "id": "35c8d10a-abc8-40c4-86ca-c658df1db70e",
   "metadata": {},
   "outputs": [],
   "source": [
    "# video_cap = cv2.VideoCapture(0)\n",
    "# while True :\n",
    "#     ret , video_data = video_cap.read()\n",
    "#     cv2.imshow(\"video_live\",video_data)\n",
    "#     if cv2.waitKey(10) == ord(\"a\"):\n",
    "#         break\n",
    "#  video_cap.release()"
   ]
  },
  {
   "cell_type": "markdown",
   "id": "218e19be-7d7a-454a-acbc-9eefadc39f55",
   "metadata": {},
   "source": [
    "# Load pre-trained face detection model"
   ]
  },
  {
   "cell_type": "code",
   "execution_count": 2,
   "id": "df9118f9-0e6d-4d9d-a980-bde609cc9102",
   "metadata": {},
   "outputs": [],
   "source": [
    "face_cap = cv2.CascadeClassifier(\"C:/ProgramData/anaconda3/Lib/site-packages/cv2/data/haarcascade_frontalface_default.xml\")"
   ]
  },
  {
   "cell_type": "code",
   "execution_count": 3,
   "id": "86b5dcd2-9f1a-4a2c-be91-fb79427a97ad",
   "metadata": {},
   "outputs": [],
   "source": [
    "# Start capturing video from webcam\n",
    "video_cap = cv2.VideoCapture(0)"
   ]
  },
  {
   "cell_type": "code",
   "execution_count": null,
   "id": "46824dee-80ff-4794-89ac-d5de04cd9002",
   "metadata": {},
   "outputs": [],
   "source": [
    "# Continuous loop to read frames from the video stream\n",
    "while True:\n",
    "    # Read a frame from the video stream\n",
    "    ret, video_data = video_cap.read()\n",
    "    \n",
    "    # Convert the frame to grayscale for face detection\n",
    "    col = cv2.cvtColor(video_data, cv2.COLOR_BGR2GRAY)\n",
    "    \n",
    "    # Detect faces in the grayscale frame\n",
    "    faces = face_cap.detectMultiScale(\n",
    "        col,\n",
    "        scaleFactor=1.1,\n",
    "        minNeighbors=5,\n",
    "        minSize=(30, 30),\n",
    "        flags=cv2.CASCADE_SCALE_IMAGE\n",
    "    )\n",
    "    \n",
    "    # Draw rectangles around detected faces\n",
    "    for (x, y, w, h) in faces:\n",
    "        cv2.rectangle(video_data, (x, y), (x+w, y+h), (0, 255, 0), 2)\n",
    "    \n",
    "    # Display the live video stream with face detection\n",
    "    cv2.imshow(\"video_live\", video_data)\n",
    "    \n",
    "    # Break the loop if 'a' key is pressed\n",
    "    if cv2.waitKey(10) == ord(\"a\"):\n",
    "        break\n",
    "\n",
    "# Release the video capture object\n",
    "video_cap.release()"
   ]
  },
  {
   "cell_type": "markdown",
   "id": "b21d1246-22d8-4e74-a806-cfe0760f0e72",
   "metadata": {},
   "source": []
  },
  {
   "cell_type": "code",
   "execution_count": null,
   "id": "43c4d59a-428f-478f-92ad-52589ebe266e",
   "metadata": {},
   "outputs": [],
   "source": []
  },
  {
   "cell_type": "code",
   "execution_count": null,
   "id": "89cac847-80d1-48c4-8793-22cf25a774d2",
   "metadata": {},
   "outputs": [],
   "source": []
  },
  {
   "cell_type": "code",
   "execution_count": null,
   "id": "de32bd9f-1146-4495-84e5-5fedd5b3a2b5",
   "metadata": {},
   "outputs": [],
   "source": []
  },
  {
   "cell_type": "code",
   "execution_count": null,
   "id": "ec5411b3-2a8f-4857-9b57-ccb44b42e8b1",
   "metadata": {},
   "outputs": [],
   "source": []
  },
  {
   "cell_type": "code",
   "execution_count": null,
   "id": "45ace63a-9858-4096-a8e7-e8f76caa889a",
   "metadata": {},
   "outputs": [],
   "source": []
  }
 ],
 "metadata": {
  "kernelspec": {
   "display_name": "Python 3 (ipykernel)",
   "language": "python",
   "name": "python3"
  },
  "language_info": {
   "codemirror_mode": {
    "name": "ipython",
    "version": 3
   },
   "file_extension": ".py",
   "mimetype": "text/x-python",
   "name": "python",
   "nbconvert_exporter": "python",
   "pygments_lexer": "ipython3",
   "version": "3.11.7"
  }
 },
 "nbformat": 4,
 "nbformat_minor": 5
}
